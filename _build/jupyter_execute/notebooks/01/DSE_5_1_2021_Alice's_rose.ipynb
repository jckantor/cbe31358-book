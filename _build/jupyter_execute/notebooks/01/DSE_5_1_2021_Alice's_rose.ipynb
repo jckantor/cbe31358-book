{
 "cells": [
  {
   "cell_type": "markdown",
   "metadata": {
    "id": "EiLWP-Y8yau3"
   },
   "source": [
    "# Data Science Essentials: Applied Optimization\n",
    "\n",
    "Joaquim Gromicho, 2021\n",
    "\n",
    "This notebook is part of the module Applied Optimization of the Analytics Academy's Data Science Essentials.\n",
    "\n",
    "---\n",
    " > During this course we make use of Jupyter notebooks hosted by [Google Colab](https://colab.research.google.com/notebooks/intro.ipynb). \n",
    "  Notebooks deployed on `colab` require neither python nor other dependencies to be installed on your own machine, you only need a browser (preferably `chrome`) and you may also need a google account if you want to execute them. \n",
    " \n",
    "---\n",
    "\n",
    "This training consists of a series of self-contained stories. \n",
    "\n",
    "This whole series makes use of [pyomo](https://en.wikipedia.org/wiki/Pyomo) which is the most complete and versatile Mathematical Optimization package in the python ecosystem.\n",
    "\n",
    "The notebooks used in this course make extensive use of [markdown](https://en.wikipedia.org/wiki/Markdown) of which [here](https://github.com/adam-p/markdown-here/wiki/Markdown-Cheatsheet) you may find a very comprehensive summary. May you like a document that you can print, fold, and take with you then you may like to check [this](https://enterprise.github.com/downloads/en/markdown-cheatsheet.pdf).\n",
    "\n",
    "We also draw pictures on our notebooks. Therefore, we need the [magic](https://ipython.readthedocs.io/en/stable/interactive/magics.html) below. \n",
    "\n",
    "\n"
   ]
  },
  {
   "cell_type": "code",
   "execution_count": null,
   "metadata": {
    "id": "qqvHTBWvyau5"
   },
   "outputs": [],
   "source": [
    "%matplotlib inline"
   ]
  },
  {
   "cell_type": "markdown",
   "metadata": {
    "id": "eDPlmjT0rcgH"
   },
   "source": [
    "For this notebook we need the following packages:\n",
    " * sympy\n",
    " * math\n",
    " * matplotlib \n",
    " * IPython\n",
    " * pyomo \n",
    " * ipopt\n",
    "\n",
    "If your python distribution is Anaconda, then from the above only the last two are likely not yet to be part of your local python installation.\n",
    "You need to install those packages on the anaconda prompt. As usual, you should try first with `conda install` and if that does not work then with `pip install`.\n",
    "You can try the conda distribution as explained in:\n",
    "https://anaconda.org/conda-forge/pyomo\n",
    "https://anaconda.org/conda-forge/ipopt \n",
    "For pyomo please read http://www.pyomo.org/installation and doe ipopt please refer to https://pypi.org/project/ipopt/ \n",
    "\n"
   ]
  },
  {
   "cell_type": "markdown",
   "metadata": {
    "id": "Wi80P9r6yau_"
   },
   "source": [
    "## About being pythonic\n",
    "\n",
    "If you program, then reading [this](https://docs.python-guide.org/writing/style/) will help you writing code that feels _natural_ in python. You may also like to uncomment the following statement for some introspection 😉 "
   ]
  },
  {
   "cell_type": "code",
   "execution_count": null,
   "metadata": {
    "id": "epHPEN9pyavA"
   },
   "outputs": [],
   "source": [
    "# import this"
   ]
  },
  {
   "cell_type": "markdown",
   "metadata": {
    "id": "MOJWot9KyavK"
   },
   "source": [
    "## Dependencies\n",
    "\n",
    "The `import` statement on the cell above is special... it imports programmer's wisdom!\n",
    "The common usage is to acquire access to python packages."
   ]
  },
  {
   "cell_type": "code",
   "execution_count": null,
   "metadata": {
    "id": "leT9mk_AyavL"
   },
   "outputs": [],
   "source": [
    "import sympy\n",
    "import math"
   ]
  },
  {
   "cell_type": "markdown",
   "metadata": {
    "id": "bQVtF0kTHAqb"
   },
   "source": [
    "\n",
    "---\n",
    "\n",
    "# Alice: a romantic introduction to Matematical Optimization and to Python\n",
    "\n",
    "Note: this story was originally told in the book [Optimization](https://press.princeton.edu/books/hardcover/9780691102870/optimization) and the protagonist there is called Samantha, but we stick to the alphabetical order...\n",
    "\n",
    "<img align='right' src='https://drive.google.com/uc?export=view&id=1ardcTimUNz-GFnzaiFlbDy6Ll0rxQl1d'>\n",
    "\n",
    "As the story goes, Alice receives a beautiful rose.\n",
    "She has nothing but a lemonade glass to hold the rose and becomes very distressed when the ensemble falls down. \n",
    "\n",
    "Adding a bit of water helps! Not only that helps the rose, but it also helps the stability: glass, with some water, and rose stands!\n",
    "\n",
    "Alice thinks: if a bit of water helps, the let us fill the glass! \n",
    "\n",
    "However, it tilts and falls, as in the beginning, just much more wet. \n",
    "\n",
    "Alice has a problem to solve: what is the _optimal_ level of water for her rose on a lemonade glass?\n",
    "\n",
    "She learns from [Archimedes]( https://en.wikipedia.org/wiki/Archimedes) how to compute the _center of gravity_ of the glass with water, which has height\n",
    "$h = \\frac{m_w}{m_w+m_g} h_w + \\frac{m_g}{m_w+m_g} h_g$ with:\n",
    "\n",
    "* $m_w$ the mass of water \n",
    "* $m_g$ the mass of glass\n",
    "* $h_w$ the height of the center of gravity of the water in the glass\n",
    "* $h_g$ the height of the center of gravity of the glass without water \n",
    "\n",
    "Since Alice's glass is $20$ cm tall, $4$ cm wide and weighs $100$ gram, Alice may fill the glass with water up to height $x$ cm, provided that $0 \\leq x \\leq 20$ since the water must fit in the glass.\n",
    "\n",
    "The volume of water is $\\pi r^2 x$ with $r$ the radius of the base, i.e. $r=2$. \n",
    "The volume is therefore $4\\pi x$ cubic centimetres. \n",
    "\n",
    "Since the density of water can be [taken](https://en.wikipedia.org/wiki/Gram_per_cubic_centimetre) as being $1$ gram per cubic centimeter we have:\n",
    "\n",
    "* $m_w = 4\\pi x$\n",
    "* $m_g = 100$\n",
    "* $h_w = \\frac{x}{2}$\n",
    "* $h_g = \\frac{20}{2} = 10$ \n",
    "\n",
    "And from here we finally obtain the following formula for the height of the center of gravity of the glass with water:\n",
    "\n",
    "$$\n",
    "h = \\frac{4\\pi x}{4\\pi x + 100} \\frac{x}{2} + \\frac{100}{4\\pi x + 100} 10 = \\frac{4\\pi x^2 + 2000}{8\\pi x + 200}\n",
    "$$\n",
    "\n",
    "Alice's problem is therefore:\n",
    "\n",
    "$$\n",
    "\\begin{array}{rl}\n",
    "\\min    & \\frac{4\\pi x^2 + 2000}{8\\pi x + 200}  \\\\\n",
    "s.t.    & x \\geq 0   \\\\\n",
    "        & x \\leq 20  \\\\\n",
    "\\end{array}\n",
    "$$"
   ]
  },
  {
   "cell_type": "markdown",
   "metadata": {
    "id": "xpGwXzWcyavQ"
   },
   "source": [
    "# Analytical solution\n",
    "\n",
    "Alice learns from [Fermat]( https://en.wikipedia.org/wiki/Pierre_de_Fermat) that for a function to reach its highest and lowest points inside its domain the derivative must vanish. \n",
    "\n",
    "This is a good moment to play with symbolic mathematics in python, we will use [sympy](https://www.sympy.org/en/index.html)."
   ]
  },
  {
   "cell_type": "markdown",
   "metadata": {
    "id": "qT8FFt_myavR"
   },
   "source": [
    "## With $\\pi$ as a number"
   ]
  },
  {
   "cell_type": "code",
   "execution_count": null,
   "metadata": {
    "colab": {
     "base_uri": "https://localhost:8080/",
     "height": 37
    },
    "id": "RdylbEWhyavT",
    "outputId": "afddb7f5-26d8-4ac6-81d7-b37bc4afa707"
   },
   "outputs": [
    {
     "data": {
      "text/latex": [
       "$\\displaystyle \\left\\{-22.8735335189926, 6.95803920980307\\right\\}$"
      ],
      "text/plain": [
       "FiniteSet(-22.8735335189926, 6.95803920980307)"
      ]
     },
     "execution_count": 4,
     "metadata": {},
     "output_type": "execute_result"
    }
   ],
   "source": [
    "# x is a symbol and pi is a number\n",
    "x  = sympy.Symbol('x')\n",
    "pi = math.pi\n",
    "\n",
    "# h is a function of x, and hprime its derivative \n",
    "h      = (4*pi*x**2 + 2000)/(8*pi*x+200)\n",
    "hprime = sympy.diff( h, x )\n",
    "\n",
    "# sol is(are) the value(s) of x that solve hprime(x) == 0\n",
    "sol = sympy.solveset( hprime, x )\n",
    "sol"
   ]
  },
  {
   "cell_type": "markdown",
   "metadata": {
    "id": "ZmscpICaRwwy"
   },
   "source": [
    "Above we see that the equation $h^\\prime(x) = 0$ has two solutions: one negative and one positive. \n",
    "Obviously, only the positive may be feasible for Alice. \n",
    "And, since its value is between $0$ and $20$, it is indeed feasible. \n",
    "\n",
    "You may recall that the sign of the second derivative tells you whether the root of the first derivative is a *maximum*, a *minimum* or a *saddle point*."
   ]
  },
  {
   "cell_type": "code",
   "execution_count": null,
   "metadata": {
    "colab": {
     "base_uri": "https://localhost:8080/",
     "height": 37
    },
    "id": "GpckqHGpSS6R",
    "outputId": "3e005a92-027e-4f22-fe45-5b752c2197f1"
   },
   "outputs": [
    {
     "data": {
      "text/latex": [
       "$\\displaystyle 0.0670430626699561$"
      ],
      "text/plain": [
       "0.0670430626699561"
      ]
     },
     "execution_count": 5,
     "metadata": {},
     "output_type": "execute_result"
    }
   ],
   "source": [
    "opt = max(sol)\n",
    "sympy.diff( hprime, x ).subs(x,opt).evalf()"
   ]
  },
  {
   "cell_type": "markdown",
   "metadata": {
    "id": "M8_Y742RTqy0"
   },
   "source": [
    "Since $h^{\\prime\\prime}(\\mbox{opt}) > 0$ it is indeed a (local) **minimum**."
   ]
  },
  {
   "cell_type": "markdown",
   "metadata": {
    "id": "tp_3g1Lvyave"
   },
   "source": [
    "## With $\\pi$ as a symbol"
   ]
  },
  {
   "cell_type": "code",
   "execution_count": null,
   "metadata": {
    "colab": {
     "base_uri": "https://localhost:8080/",
     "height": 68
    },
    "id": "0VJ6-cDNyavg",
    "outputId": "788c3068-7470-46a6-9374-6333c63f0130"
   },
   "outputs": [
    {
     "data": {
      "text/latex": [
       "$\\displaystyle \\left\\{- \\frac{5 \\sqrt{5} \\sqrt{4 \\pi + 5}}{\\pi} - \\frac{25}{\\pi}, \\frac{5 \\sqrt{5} \\sqrt{4 \\pi + 5}}{\\pi} - \\frac{25}{\\pi}\\right\\} \\setminus \\left\\{- \\frac{25}{\\pi}\\right\\}$"
      ],
      "text/plain": [
       "Complement(FiniteSet(-5*sqrt(5)*sqrt(4*pi + 5)/pi - 25/pi, 5*sqrt(5)*sqrt(4*pi + 5)/pi - 25/pi), FiniteSet(-25/pi))"
      ]
     },
     "execution_count": 6,
     "metadata": {},
     "output_type": "execute_result"
    }
   ],
   "source": [
    "# now pi is a symbol, just like x\n",
    "pi = sympy.Symbol('pi')\n",
    "\n",
    "# we redefine h using the same right-hand-side code as before, \n",
    "# but now with x and pi as symbols\n",
    "h = (4*pi*x**2 + 2000)/(8*pi*x+200)\n",
    "\n",
    "# to have the drivative on the symbol pi we need it from the new version of h\n",
    "hprime = sympy.diff( h, x )\n",
    "\n",
    "solution = sympy.solveset( sympy.diff( h, x ), x )\n",
    "solution"
   ]
  },
  {
   "cell_type": "markdown",
   "metadata": {
    "id": "RNyUA6xqUVxX"
   },
   "source": [
    "Having symbols becomes beneficial if our formulas are displayed in nice mathematical layout. \n",
    "That is the purpose of the next section."
   ]
  },
  {
   "cell_type": "markdown",
   "metadata": {
    "id": "YkgKL-v-yavm"
   },
   "source": [
    "## Forcing formulas to pretty display using $\\LaTeX$"
   ]
  },
  {
   "cell_type": "code",
   "execution_count": null,
   "metadata": {
    "colab": {
     "base_uri": "https://localhost:8080/",
     "height": 105
    },
    "id": "D1TsM5XSyavo",
    "outputId": "fc0eb048-e2e5-41ff-a705-16655c5a29d5"
   },
   "outputs": [
    {
     "data": {
      "text/latex": [
       "$$\\frac{4 \\pi x^{2} + 2000}{8 \\pi x + 200}$$"
      ],
      "text/plain": [
       "<IPython.core.display.Math object>"
      ]
     },
     "metadata": {},
     "output_type": "display_data"
    },
    {
     "data": {
      "text/latex": [
       "$$\\frac{8 \\pi x}{8 \\pi x + 200} - \\frac{8 \\pi \\left(4 \\pi x^{2} + 2000\\right)}{\\left(8 \\pi x + 200\\right)^{2}}$$"
      ],
      "text/plain": [
       "<IPython.core.display.Math object>"
      ]
     },
     "metadata": {},
     "output_type": "display_data"
    },
    {
     "data": {
      "text/latex": [
       "$$\\frac{\\pi \\left(- \\pi x^{2} + 2 x \\left(\\pi x + 25\\right) - 500\\right)}{2 \\left(\\pi x + 25\\right)^{2}}$$"
      ],
      "text/plain": [
       "<IPython.core.display.Math object>"
      ]
     },
     "metadata": {},
     "output_type": "display_data"
    }
   ],
   "source": [
    "def Preety( formula ):\n",
    "    from sympy import latex\n",
    "    from IPython.display import display, Math\n",
    "    display( Math( latex( formula ) ) )\n",
    "\n",
    "Preety( h )\n",
    "Preety( hprime )\n",
    "Preety( sympy.simplify( hprime ) )"
   ]
  },
  {
   "cell_type": "markdown",
   "metadata": {
    "id": "djJCX5ybyavt"
   },
   "source": [
    "## From a symbolic $\\pi$ to a numeric $\\pi$"
   ]
  },
  {
   "cell_type": "code",
   "execution_count": null,
   "metadata": {
    "colab": {
     "base_uri": "https://localhost:8080/",
     "height": 65
    },
    "id": "ltdu9DYYyavu",
    "outputId": "8a7ffc1a-53c1-4ac6-b5d7-e522252f7cae"
   },
   "outputs": [
    {
     "data": {
      "text/latex": [
       "$$\\left\\{- \\frac{5 \\sqrt{5} \\sqrt{4 \\pi + 5}}{\\pi} - \\frac{25}{\\pi}, \\frac{5 \\sqrt{5} \\sqrt{4 \\pi + 5}}{\\pi} - \\frac{25}{\\pi}\\right\\} \\setminus \\left\\{- \\frac{25}{\\pi}\\right\\}$$"
      ],
      "text/plain": [
       "<IPython.core.display.Math object>"
      ]
     },
     "metadata": {},
     "output_type": "display_data"
    },
    {
     "name": "stdout",
     "output_type": "stream",
     "text": [
      "6.95803920980307\n"
     ]
    }
   ],
   "source": [
    "Preety( solution )\n",
    "\n",
    "s = max(solution.subs( pi, math.pi ).evalf())\n",
    "\n",
    "print(s)"
   ]
  },
  {
   "cell_type": "markdown",
   "metadata": {
    "id": "7suf1EW_yav1"
   },
   "source": [
    "## A picture says more than thousand words"
   ]
  },
  {
   "cell_type": "code",
   "execution_count": null,
   "metadata": {
    "id": "EtJnFA6Dyav2"
   },
   "outputs": [],
   "source": [
    "def Plot( h, s, start, stop, width=18, height=8 ):\n",
    "    import matplotlib.pyplot as plt\n",
    "    plt.rcParams[\"figure.figsize\"] = (18,8)\n",
    "\n",
    "    x = sympy.Symbol('x')\n",
    "    f = sympy.lambdify( x, h.subs( pi, math.pi ) )\n",
    "\n",
    "    import numpy\n",
    "    x = numpy.linspace(start=start,stop=stop,num=100) \n",
    "    y = f(x)\n",
    "\n",
    "    plt.plot(x,y,label='$'+sympy.latex(h)+'$',linewidth=3)\n",
    "    plt.plot(s,f(s), 'ro', label='optimum', markersize=12)\n",
    "\n",
    "    plt.legend()\n",
    "    plt.show() "
   ]
  },
  {
   "cell_type": "code",
   "execution_count": null,
   "metadata": {
    "colab": {
     "base_uri": "https://localhost:8080/",
     "height": 483
    },
    "id": "nKbcr-4Xyav6",
    "outputId": "64e9c8e6-2a79-475b-ace0-9077bd80c80f"
   },
   "outputs": [
    {
     "data": {
      "image/png": "[encoded data removed]",
      "text/plain": [
       "<Figure size 1296x576 with 1 Axes>"
      ]
     },
     "metadata": {
      "filenames": {
       "image/png": "/Users/jeff/Google Drive/GitHub/MO-book/_build/jupyter_execute/notebooks/01/DSE_5_1_2021_Alice's_rose_23_0.png"
      },
      "needs_background": "light"
     },
     "output_type": "display_data"
    }
   ],
   "source": [
    "Plot( h, s, 0, 20 )"
   ]
  },
  {
   "cell_type": "markdown",
   "metadata": {
    "id": "ZEI3EKoMyawB"
   },
   "source": [
    "# What if we only care about the numerical solution?\n",
    "\n",
    "## Introducing `pyomo`\n",
    "\n",
    "This is the moment to meet:\n",
    " * mathematical models expressed in `python`, using `pyomo`,\n",
    " * powerful numerical optimization algorithms and how to use them. \n",
    "\n",
    "We now meet [`pyomo`](http://www.pyomo.org/documentation/) which will keep us company for the rest of the course. \n",
    "Note that in particular you may find this [slide-deck](https://software.sandia.gov/downloads/pub/pyomo/Pyomo-Workshop-Summer-2018.pdf) quite useful. \n",
    "\n",
    "We will see that `pyomo` completely separates modeling from solving, which allows us to switch solver without recoding! \n",
    "\n",
    "## Notebook dependencies requiring installation on `colab`\n",
    "\n",
    "Note that [this notebook](https://nbviewer.jupyter.org/github/jckantor/ND-Pyomo-Cookbook/blob/master/notebooks/01.02-Running-Pyomo-on-Google-Colab.ipynb) explains how to run `Pyomo` on Google Colab. \n",
    "For a complete overview please check the [cookbook](https://jckantor.github.io/ND-Pyomo-Cookbook/)."
   ]
  },
  {
   "cell_type": "code",
   "execution_count": null,
   "metadata": {
    "colab": {
     "base_uri": "https://localhost:8080/"
    },
    "id": "iU21fEfp0uMh",
    "outputId": "a7d2c19c-673d-483d-f0a4-8a07a37fca3c"
   },
   "outputs": [
    {
     "name": "stdout",
     "output_type": "stream",
     "text": [
      "\u001b[K     |████████████████████████████████| 9.2 MB 5.1 MB/s \n",
      "\u001b[K     |████████████████████████████████| 49 kB 4.1 MB/s \n",
      "\u001b[?25h"
     ]
    }
   ],
   "source": [
    "import shutil\n",
    "if not shutil.which('pyomo'):\n",
    "    !pip install -q pyomo\n",
    "    assert(shutil.which('pyomo'))"
   ]
  },
  {
   "cell_type": "code",
   "execution_count": null,
   "metadata": {
    "colab": {
     "base_uri": "https://localhost:8080/"
    },
    "id": "slUMa7NIyawD",
    "outputId": "04f0ca69-82f9-47b0-9f01-d8c27829c8a8"
   },
   "outputs": [
    {
     "name": "stdout",
     "output_type": "stream",
     "text": [
      "1 Var Declarations\n",
      "    h : Size=1, Index=None\n",
      "        Key  : Lower : Value : Upper : Fixed : Stale : Domain\n",
      "        None :     0 :  None :    20 : False :  True :  Reals\n",
      "\n",
      "1 Objective Declarations\n",
      "    cog : Size=1, Index=None, Active=True\n",
      "        Key  : Active : Sense    : Expression\n",
      "        None :   True : minimize : (12.566370614359172*h**2 + 2000)/(25.132741228718345*h + 200)\n",
      "\n",
      "2 Declarations: h cog\n"
     ]
    }
   ],
   "source": [
    "from pyomo.environ import ConcreteModel, Var, Objective, minimize\n",
    "alice     = ConcreteModel('Alice')\n",
    "alice.h   = Var( bounds=(0,20) )\n",
    "alice.cog = Objective(expr =(4*math.pi*alice.h**2+2000)/(8*math.pi*alice.h+200)\n",
    "                     ,sense=minimize)\n",
    "alice.pprint()"
   ]
  },
  {
   "cell_type": "markdown",
   "metadata": {
    "id": "Su2eBB5sWtYL"
   },
   "source": [
    "We may solve the problem even if we have no solver installed!\n",
    "We simply call a solver on [neos](https://neos-server.org/neos/solvers/index.html) which `pyomo` treats as a _solver manager_.\n",
    "\n",
    "Note that `neos` requires a valid e-mail address to be specified on the environment variable `NEOS_EMAIL`."
   ]
  },
  {
   "cell_type": "code",
   "execution_count": null,
   "metadata": {
    "id": "Alyz2pNE7Ucd"
   },
   "outputs": [],
   "source": [
    "import os\n",
    "os.environ['NEOS_EMAIL'] = 'you@your.org'"
   ]
  },
  {
   "cell_type": "code",
   "execution_count": null,
   "metadata": {
    "colab": {
     "base_uri": "https://localhost:8080/"
    },
    "id": "koziMnH4yawM",
    "outputId": "ead32e65-0d5e-4b19-ca5f-87ea2b87a47c"
   },
   "outputs": [
    {
     "name": "stdout",
     "output_type": "stream",
     "text": [
      "CPU times: user 85.7 ms, sys: 19.6 ms, total: 105 ms\n",
      "Wall time: 13.7 s\n",
      "ok optimal\n",
      "1 Var Declarations\n",
      "    h : Size=1, Index=None\n",
      "        Key  : Lower : Value            : Upper : Fixed : Stale : Domain\n",
      "        None :     0 : 6.95803921230998 :    20 : False : False :  Reals\n",
      "\n",
      "1 Objective Declarations\n",
      "    cog : Size=1, Index=None, Active=True\n",
      "        Key  : Active : Sense    : Expression\n",
      "        None :   True : minimize : (12.566370614359172*h**2 + 2000)/(25.132741228718345*h + 200)\n",
      "\n",
      "2 Declarations: h cog\n"
     ]
    }
   ],
   "source": [
    "from pyomo.environ import SolverManagerFactory\n",
    "neos = SolverManagerFactory('neos')\n",
    "%time results = neos.solve( alice, opt='ipopt')\n",
    "print(results.solver.status, results.solver.termination_condition )\n",
    "alice.pprint()"
   ]
  },
  {
   "cell_type": "markdown",
   "metadata": {
    "id": "RJuMIo0OXKXq"
   },
   "source": [
    "Besides `pprint`, `pyomo` objects also implement `display`. "
   ]
  },
  {
   "cell_type": "code",
   "execution_count": null,
   "metadata": {
    "colab": {
     "base_uri": "https://localhost:8080/"
    },
    "id": "R7eVH956yawT",
    "outputId": "b5f28c2a-affc-4f19-c7c2-86836a9b7b64"
   },
   "outputs": [
    {
     "name": "stdout",
     "output_type": "stream",
     "text": [
      "Model Alice\n",
      "\n",
      "  Variables:\n",
      "    h : Size=1, Index=None\n",
      "        Key  : Lower : Value            : Upper : Fixed : Stale : Domain\n",
      "        None :     0 : 6.95803921230998 :    20 : False : False :  Reals\n",
      "\n",
      "  Objectives:\n",
      "    cog : Size=1, Index=None, Active=True\n",
      "        Key  : Active : Value\n",
      "        None :   True : 6.95803920980307\n",
      "\n",
      "  Constraints:\n",
      "    None\n"
     ]
    }
   ],
   "source": [
    "alice.display()"
   ]
  },
  {
   "cell_type": "markdown",
   "metadata": {
    "id": "eCXb5Bn9Xb15"
   },
   "source": [
    "The reason why `Alice` reports having no constraints is because we modeled the constraints as `bounds` on the variable. \n",
    "\n",
    "We may also examine the parts of the model, as the variables, objectives, etc."
   ]
  },
  {
   "cell_type": "code",
   "execution_count": null,
   "metadata": {
    "colab": {
     "base_uri": "https://localhost:8080/"
    },
    "id": "qUZL4JRZyawm",
    "outputId": "0309e372-2166-4e0a-b0fd-d03317bca45a"
   },
   "outputs": [
    {
     "data": {
      "text/plain": [
       "6.95803921230998"
      ]
     },
     "execution_count": 16,
     "metadata": {},
     "output_type": "execute_result"
    }
   ],
   "source": [
    "alice.h.value"
   ]
  },
  {
   "cell_type": "code",
   "execution_count": null,
   "metadata": {
    "colab": {
     "base_uri": "https://localhost:8080/"
    },
    "id": "Sh4vRPiMyawt",
    "outputId": "251ab639-3152-444b-ad93-1de45d11d5e4"
   },
   "outputs": [
    {
     "data": {
      "text/plain": [
       "6.95803920980307"
      ]
     },
     "execution_count": 17,
     "metadata": {},
     "output_type": "execute_result"
    }
   ],
   "source": [
    "alice.cog.expr()"
   ]
  },
  {
   "cell_type": "markdown",
   "metadata": {
    "id": "I5jLLFL7yawx"
   },
   "source": [
    "It is worth learning more about [magics](https://ipython.readthedocs.io/en/stable/interactive/magics.html), try the magic `%time` above before `solve`."
   ]
  },
  {
   "cell_type": "markdown",
   "metadata": {
    "id": "gOUsETqbX4J3"
   },
   "source": [
    "## What difference does it make if we change solver?\n",
    "\n",
    "Let us get our own copy of `ipopt`.\n",
    "We refer again to [this notebook](https://nbviewer.jupyter.org/github/jckantor/ND-Pyomo-Cookbook/blob/master/notebooks/01.02-Running-Pyomo-on-Google-Colab.ipynb) explains how to run `Pyomo` **and how to install solvers** on Google Colab. \n",
    "For a complete overview please check the [cookbook](https://jckantor.github.io/ND-Pyomo-Cookbook/)."
   ]
  },
  {
   "cell_type": "code",
   "execution_count": null,
   "metadata": {
    "id": "KYVln9xuRQm1"
   },
   "outputs": [],
   "source": [
    "import sys\n",
    "if 'google.colab' in sys.modules:\n",
    "    !wget -N -q 'https://ampl.com/dl/open/ipopt/ipopt-linux64.zip'\n",
    "    !unzip -o -q ipopt-linux64"
   ]
  },
  {
   "cell_type": "code",
   "execution_count": null,
   "metadata": {
    "colab": {
     "base_uri": "https://localhost:8080/"
    },
    "id": "MnIEZZ7Ryawy",
    "outputId": "9103d60d-c7da-4b31-dc41-38869d60b75a"
   },
   "outputs": [
    {
     "name": "stdout",
     "output_type": "stream",
     "text": [
      "CPU times: user 4.68 ms, sys: 12.7 ms, total: 17.4 ms\n",
      "Wall time: 30.7 ms\n",
      "ok optimal\n",
      "Model Alice\n",
      "\n",
      "  Variables:\n",
      "    h : Size=1, Index=None\n",
      "        Key  : Lower : Value             : Upper : Fixed : Stale : Domain\n",
      "        None :     0 : 6.958039212309979 :    20 : False : False :  Reals\n",
      "\n",
      "  Objectives:\n",
      "    cog : Size=1, Index=None, Active=True\n",
      "        Key  : Active : Value\n",
      "        None :   True : 6.95803920980307\n",
      "\n",
      "  Constraints:\n",
      "    None\n"
     ]
    }
   ],
   "source": [
    "from pyomo.environ import SolverFactory\n",
    "%time results = SolverFactory('ipopt').solve(alice)\n",
    "print(results.solver.status, results.solver.termination_condition )\n",
    "alice.display()"
   ]
  },
  {
   "cell_type": "markdown",
   "metadata": {
    "id": "fyMVJjGYHiG6"
   },
   "source": [
    "# Conclusion\n",
    "\n",
    "This notebook shows you how to solve Alice's problem: finding the most stable amount of water in a vase. \n",
    "\n",
    "You learned how to solve the problem analytically with `sympy`, how to use `matplotlib` to visualize the function and the optimum. And how to model Alice's problem on `pyomo` and solve it with `ipopt` both at [neos](https://neos-server.org/neos/solvers/index.html) and \"locally\" at your own Colab session.\n"
   ]
  },
  {
   "cell_type": "markdown",
   "metadata": {
    "id": "NoUiOWm_Ygzm"
   },
   "source": [
    "# Last remarks\n",
    "\n",
    "This notebook deferred installation of the packages needed to the moment that we actually needed them. \n",
    "\n",
    "This was deliberate, to show that - for instance - we could solve the problem on `neos` even _before_ having installed our first solver. \n",
    "\n",
    "Subsequent notebooks will tend to list all dependencies on their top part, which we often call the _preamble_. "
   ]
  },
  {
   "cell_type": "code",
   "execution_count": null,
   "metadata": {
    "id": "iImArGMDc6Fo"
   },
   "outputs": [],
   "source": []
  }
 ],
 "metadata": {
  "colab": {
   "collapsed_sections": [],
   "name": "DSE-5.1 2021 - Alice's rose.ipynb",
   "provenance": []
  },
  "kernelspec": {
   "display_name": "Python 3 (ipykernel)",
   "language": "python",
   "name": "python3"
  },
  "language_info": {
   "codemirror_mode": {
    "name": "ipython",
    "version": 3
   },
   "file_extension": ".py",
   "mimetype": "text/x-python",
   "name": "python",
   "nbconvert_exporter": "python",
   "pygments_lexer": "ipython3",
   "version": "3.9.7"
  }
 },
 "nbformat": 4,
 "nbformat_minor": 4
}