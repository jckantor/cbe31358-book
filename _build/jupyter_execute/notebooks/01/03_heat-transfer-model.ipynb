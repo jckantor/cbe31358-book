{
 "cells": [
  {
   "cell_type": "markdown",
   "metadata": {
    "id": "yFkzcmtll543"
   },
   "source": [
    "# Heat Transfer Coeffient Model\n"
   ]
  },
  {
   "cell_type": "markdown",
   "metadata": {
    "id": "3FWEz2kS2c9R"
   },
   "source": [
    "\n",
    "The key performance parameter for the heat transfer device is the overall heat transfer coefficient $U$. The overall heat transfer coefficient is established by series of transport mechanisms ... \n",
    "\n",
    "* convective heat transfer from the bulk of the hot fluid to the wall of the exchanger tube, \n",
    "* conductive heat transfer through the wall of the tube, \n",
    "* convective heat transfer from the wall to the tube to the bulk of the cold fluid.\n",
    "\n",
    "For a series of transport mechanisms, the overall heat transfer coefficient \n",
    "\n",
    "$$\\frac{1}{U} = \\frac{1}{U_h} + \\frac{1}{U_{tube}} + \\frac{1}{U_c}$$\n",
    "\n",
    "$U_{tube}$ is a constant for these devices. $U_h$ and $U_c$ varying with flowrate and proporitonal to dimensionless Nusselt number. For fully developed turbulent flow in a pipe, the Dittus-Boelter equation provides an explicit function for estimating the Nusselt number\n",
    "\n",
    "$$Nu = C \\cdot Re^{4/5} \\cdot Pr^n$$\n",
    "\n",
    "where $C$ is a constant, $Re$ is the Reynold's number that is proportional to flowrate $\\dot{q}$, and $Pr$ is the Prandtl number determined by fluid properties.\n",
    "\n",
    "Experimentally, consider a set of values for $U$ determined by varying volumetric flowrates $\\dot{q}_h$ and $\\dot{q}_c$ over range of values. Because Reynold's number is proportional to flowrate, we propose a model\n",
    "\n",
    "$$\\frac{1}{U} = R_{tube} + r_h \\dot{q}_h^{-0.8} + r_c \\dot{q}_c^{-0.8}$$\n",
    "\n",
    "This suggests a regression procedure:\n",
    "\n",
    "* Plot $\\frac{1}{U}$ as a function of $\\dot{q}_h^{-0.8}$ for fixed values of $\\dot{q}_c$. Esitmate $r_h$ from the slope.\n",
    "* Plot $\\frac{1}{U}$ as a function of $\\dot{q}_c^{-0.8}$ for fixed values of $\\dot{q}_h$. Estimate r_c from the slope.\n",
    "* Use the data and estimates of $r_h$ and $r_c$ to estimate $R_{tube}$.\n",
    "\n",
    "Alternatively, one could consider using a regression procedure from the [`scikit-learn`](https://scikit-learn.org/stable/) machine learning toolkit where \n",
    "\n",
    "$$Y = \\frac{1}{U}$$\n",
    "\n",
    "is the variable to predicted, and where\n",
    "\n",
    "\\begin{align*}\n",
    "X_h & = \\dot{q}_h^{-0.8}\\\\\n",
    "X_c & = \\dot{q}_c^{-0.8}\n",
    "\\end{align*}\n",
    "\n",
    "are the features. The linear model to be fitted is then\n",
    "\n",
    "$$Y = w_0 + w_h X_h + w_c X_c$$\n",
    "\n",
    "where $w_0$, $w_h X_h$ and $w_c X_c$ correspond to resistances to heat transfer.  The range of regression techniques available in `scikit-learn` opens up opportunities to explore alternative feature sets and models for heat transfer."
   ]
  },
  {
   "cell_type": "code",
   "execution_count": null,
   "metadata": {},
   "outputs": [],
   "source": []
  }
 ],
 "metadata": {
  "colab": {
   "collapsed_sections": [],
   "name": "Double-Pipe-Heat-Exchanger-Mon-V2.ipynb",
   "provenance": [
    {
     "file_id": "1NaDHmUO2fL4DKaSm5olh95-Xi9_Xt_K9",
     "timestamp": 1644260464572
    },
    {
     "file_id": "1AtKlDMjdgGYtCdxAgKh6eq4rpYx-a9W2",
     "timestamp": 1643289357502
    },
    {
     "file_id": "1LdNwwnfigDPh9zYo6z39u-YzJMCTcCZt",
     "timestamp": 1643224143760
    },
    {
     "file_id": "1p3KOLCqcQeT0-SYFN26YGz2zsbXyNUsw",
     "timestamp": 1643152561693
    },
    {
     "file_id": "1jw8ackmGdpweFmVA6CW3N8XGA_lws9Mw",
     "timestamp": 1643142799483
    }
   ]
  },
  "kernelspec": {
   "display_name": "Python 3 (ipykernel)",
   "language": "python",
   "name": "python3"
  },
  "language_info": {
   "codemirror_mode": {
    "name": "ipython",
    "version": 3
   },
   "file_extension": ".py",
   "mimetype": "text/x-python",
   "name": "python",
   "nbconvert_exporter": "python",
   "pygments_lexer": "ipython3",
   "version": "3.9.7"
  }
 },
 "nbformat": 4,
 "nbformat_minor": 4
}