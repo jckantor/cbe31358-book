{
 "cells": [
  {
   "cell_type": "markdown",
   "metadata": {
    "id": "yFkzcmtll543"
   },
   "source": [
    "# Double Pipe Heat Exchanger\n"
   ]
  },
  {
   "cell_type": "markdown",
   "metadata": {
    "id": "lO_8IJihtaAm"
   },
   "source": [
    "## Experimental Goals\n",
    "\n",
    "There are three basic calculations for heat exchanger design.\n",
    "\n",
    "* **Rating.** Given the size, geometry, entering flowrates and streaam temperatures, compute the heat transferred.\n",
    "\n",
    "* **Performance.** Given measurements of stream flowrates and temperatures, estimate the heat transfer coefficient.\n",
    "\n",
    "* **Sizing.** Given the heat transfer requirements and stream flowrates, compute the required size and other design parameters. Sizing calculations generally require consideration of heat exchanger geometry, economics, and is considerably more complex thaan rating or performance calculations.\n",
    "\n",
    "In this experiment, you will conduct experiments and gather data needed characterize heat exchanger performance to create a preditive model for rating calculations. You will then test your models ability to predict heat exchanger performance for other operating conditions.\n"
   ]
  },
  {
   "cell_type": "markdown",
   "metadata": {
    "id": "SqrJvXa-nega"
   },
   "source": [
    "## Co-Current Operation\n",
    "\n",
    "### Rating Calculations\n",
    "\n",
    "Consider a heat exchanger in a co-current configuration. Label one end $z=0$ and the other $z=1$. $z$ changes continuously from 0 to 1 over the length of the heat exchanger. If the cross-sectional for heat transfer is constant then\n",
    "\n",
    "$$dA = A dz$$\n",
    "\n",
    "where $A$ is the total area for heat transfer. According to the Second Law of Thermodynamics, heat transfers from the hot stream to the cold stream. A model for differential amount of heat transferred, $dQ$ over a length $dz$ is\n",
    "\n",
    "$$dQ = UA (T_h - T_c) dz$$\n",
    "\n",
    "where the temperture difference $T_h - T_c$ is the driving force for heat transfer. \n",
    "\n",
    "In a co-current configuration, let $\\dot{m}_h$ and $\\dot{m}_c$ denote flow in the positive $z$ direction. Heat transfer results in a cooling of the hot stream and a waarming of the cold stream relative to the same direction.\n",
    "\n",
    "\\begin{align*}\n",
    "-\\dot{m}_h C_{p,h} dT_h & = dQ \\\\\n",
    "\\dot{m}_c C_{p,c} dT_c & = dQ\n",
    "\\end{align*}\n",
    "\n",
    "In co-current operation the temperature of both inlet flows are known at $z=0$. After substitution for $dQ$, the temperature profile is  given by a pair of first order differential equations with  initial conditions for $T_h(0)$ and $T_c(0)$\n",
    "\n",
    "\\begin{align*}\n",
    "\\frac{dT_h}{dz} & = -\\frac{UA}{\\dot{m}_hC_{p,h}}(T_h - T_c)  & T_h(z=0) = T_{h,0}\\\\\n",
    "\\frac{dT_c}{dz} & = \\frac{UA}{\\dot{m}_cC_{p,c}}(T_h - T_c) & T_c(z=0) = T_{c, 0}\n",
    "\\end{align*}\n",
    "\n",
    "This is an initial value problem of two differential equations that can be solved numerically with ``scipy.integrate.solve_ivp`` as demonstrated below. \n",
    "\n",
    "The results of the temperature calculation can be used to complete the rating calculation.\n",
    "\n",
    "\\begin{align*}\n",
    "Q_h & = \\dot{m}_h C_{p,h} (T_{h,0} - T_{h,1}) \\\\\n",
    "Q_c & = \\dot{m}_c C_{p,c} (T_{c,1} - T_{c,0})\n",
    "\\end{align*}\n",
    "\n",
    "where we expect $Q = Q_h = Q_c$ at steady state and with negligible heat losses.\n"
   ]
  },
  {
   "cell_type": "code",
   "execution_count": 1,
   "metadata": {
    "colab": {
     "base_uri": "https://localhost:8080/",
     "height": 295
    },
    "executionInfo": {
     "elapsed": 808,
     "status": "ok",
     "timestamp": 1643224477820,
     "user": {
      "displayName": "Jeffrey Kantor",
      "photoUrl": "https://lh3.googleusercontent.com/a-/AOh14Gg_n8V7bVINy02QRuRgOoMo11Ri7NKU3OUKdC1bkQ=s64",
      "userId": "09038942003589296665"
     },
     "user_tz": 300
    },
    "id": "6PNkNwpQndK3",
    "outputId": "f2556e57-7f84-4f27-923a-13b34c457ebe"
   },
   "outputs": [
    {
     "data": {
      "text/plain": [
       "[<matplotlib.lines.Line2D at 0x7faa18108f10>]"
      ]
     },
     "execution_count": 1,
     "metadata": {},
     "output_type": "execute_result"
    },
    {
     "data": {
      "image/png": "[encoded data removed]",
      "text/plain": [
       "<Figure size 432x288 with 1 Axes>"
      ]
     },
     "metadata": {
      "filenames": {
       "image/png": "/Users/jeff/Google Drive/GitHub/cbe31358-book/_build/jupyter_execute/notebooks/01/02_double-pipe-hx_3_1.png"
      },
      "needs_background": "light"
     },
     "output_type": "display_data"
    }
   ],
   "source": [
    "import numpy as np\n",
    "import pandas as pd\n",
    "from scipy.integrate import solve_ivp\n",
    "\n",
    "# parameter values\n",
    "A = 0.5       # square meters\n",
    "U = 2000      # watts/square meter/deg C\n",
    "mh = 600      # kg/hour\n",
    "mc = 1200     # kg/hour\n",
    "Cp = 4184     # Joules/kg/deg C     \n",
    "\n",
    "# feed temperatures\n",
    "Th0 = 55.0\n",
    "Tc0 = 18.0\n",
    "\n",
    "# differential equation model\n",
    "def deriv(z, y):\n",
    "    Th, Tc = y\n",
    "    dTh = -U*A*(Th - Tc)/((mh/3600)*Cp)\n",
    "    dTc =  U*A*(Th-Tc)/((mc/3600)*Cp)\n",
    "    return [dTh, dTc]\n",
    "\n",
    "# initial conditions\n",
    "IC = [Th0, Tc0]\n",
    "\n",
    "# evaluate solution\n",
    "soln = solve_ivp(deriv, [0, 1], IC, max_step=0.01)\n",
    "\n",
    "# plot solution\n",
    "df = pd.DataFrame(soln.y.T, columns=[\"Th\", \"Tc\"])\n",
    "df[\"z\"] = soln.t\n",
    "ax = df.plot(x=\"z\", style={\"Th\" : \"r\", \"Tc\" : \"b\"}, lw=2,\n",
    "    title=\"Co-current Heat Exchanger\", xlabel=\"distance\", ylabel=\"deg C\", grid=True)\n",
    "ax.plot(0, df.loc[0, \"Th\"], 'r.', ms=20)\n",
    "ax.plot(0, df.loc[0, \"Tc\"], 'b.', ms=20)"
   ]
  },
  {
   "cell_type": "markdown",
   "metadata": {
    "id": "vYMx-UUrZqLW"
   },
   "source": [
    "### Measuring Heat Transfer Coefficient\n",
    "\n",
    "An analytical solution for the difference $T_h - T_c$ is possible for this system of equations. Subtracting the second equation from the first gives\n",
    "\n",
    "$$\\frac{d(T_h - T_c)}{dz} = -UA\\left(\\frac{1}{\\dot{m}_hC_{p,h}} + \\frac{1}{\\dot{m}_cC_{p,c}}\\right) (T_h - T_c)$$\n",
    "\n",
    "This is a first-order linear differentiaal equation with constant coefficients that can be solved by a separation of variables. One form of the solution is\n",
    "\n",
    "$$\\ln \\frac{T_h - T_c}{T_{h,0} - T_{c,0}} = -UA\\left(\\frac{1}{\\dot{m}_hC_{p,h}} + \\frac{1}{\\dot{m}_cC_{p,c}}\\right)z$$\n",
    "\n",
    "where $T_h$ and $T_c$ are functions of $z$ on the interval $0 \\leq z \\leq 1$.\n",
    "\n",
    "An overall balance for the total heat transferred between the hot and cold streams is given by\n",
    "\n",
    "\\begin{align*}\n",
    "Q_h & = \\dot{m}_h C_{p,h} (T_{h,0} - T_{h,1}) \\\\\n",
    "Q_c & = \\dot{m}_c C_{p,c} (T_{c,1} - T_{c,0})\n",
    "\\end{align*}\n",
    "\n",
    "Rearranging\n",
    "\n",
    "\\begin{align*}\n",
    "\\frac{1}{\\dot{m}_hC_{p,h}} & = \\frac{T_{h,0} - T_{h,1}}{Q_h} \\\\\n",
    "\\frac{1}{\\dot{m}_cC_{p,c}} & = \\frac{T_{c,1} - T_{c,0}}{Q_c}\n",
    "\\end{align*}\n",
    "\n",
    "At steady-state $Q_h = Q_c$. With a little more algebra this leaves \n",
    "\n",
    "$$Q = UA \\frac{(T_{h,1} - T_{c,1}) - (T_{h,0} - T_{c,0})}{\\ln \\frac{T_{h,1} - T_{c,1}}{T_{h,0} - T_{c,0}}}$$\n",
    "\n",
    "The temperature dependent term multiplying $UA$ is call the **log mean temperature difference**.\n",
    "\n",
    "$$\\text{LMTD} = \\frac{(T_{h,1} - T_{c,1}) - (T_{h,0} - T_{c,0})}{\\ln \\frac{T_{h,1} - T_{c,1}}{T_{h,0} - T_{c,0}}}$$\n",
    "\n",
    "Given experimental data, these relationships can be used to estimate the heat transfer coefficient $U$ from steady-state measurements of inlet and outlet temperataures and heat duty.\n",
    "\n",
    "$$U = \\frac{Q}{A \\cdot \\text{LMTD}}$$"
   ]
  },
  {
   "cell_type": "markdown",
   "metadata": {
    "id": "za0wt-aRh58H"
   },
   "source": [
    "The following code provides estimates the value of $U$ from experimental data in two steps. The first step uses the temperatures measured at both ends of the exchanger and the measured heat duty to compute the LMTD and $U$. The second step refines the estimate by fitting a model to the experimental results."
   ]
  },
  {
   "cell_type": "code",
   "execution_count": 5,
   "metadata": {
    "colab": {
     "base_uri": "https://localhost:8080/",
     "height": 451
    },
    "executionInfo": {
     "elapsed": 2443,
     "status": "ok",
     "timestamp": 1643224660710,
     "user": {
      "displayName": "Jeffrey Kantor",
      "photoUrl": "https://lh3.googleusercontent.com/a-/AOh14Gg_n8V7bVINy02QRuRgOoMo11Ri7NKU3OUKdC1bkQ=s64",
      "userId": "09038942003589296665"
     },
     "user_tz": 300
    },
    "id": "fGc0xfbKl1WN",
    "outputId": "18365e85-e32d-4c8b-cd3f-7c5ed96d1a58"
   },
   "outputs": [
    {
     "name": "stdout",
     "output_type": "stream",
     "text": [
      "Heat duty = 52800.0 watts\n",
      "NTU = 1.70\n",
      "LMTD = 19.36 deg C\n",
      "U (LMTD estimate) = 545.5 watt/deg C/m**2\n"
     ]
    }
   ],
   "source": [
    "import numpy as np\n",
    "from scipy.integrate import solve_ivp\n",
    "from scipy.optimize import fmin\n",
    "\n",
    "# known parameter values\n",
    "A = 5.0\n",
    "mh = 600\n",
    "mc = 1200\n",
    "Cp = 4.0\n",
    "\n",
    "# experimental data\n",
    "z_expt = np.linspace(0, 1, 5)\n",
    "Th_expt = np.array([55.0, 48.0, 42.0, 38.0, 33.0])\n",
    "Tc_expt = np.array([18.0, 22.0, 25.0, 28.0, 29.0])\n",
    "\n",
    "# LMTD calculation of heat transfer coefficient\n",
    "Th0, Th1 = Th_expt[0], Th_expt[-1]\n",
    "Tc0, Tc1 = Tc_expt[0], Tc_expt[-1]\n",
    "\n",
    "# compute heat duty\n",
    "Qh = mh*Cp*(Th0 - Th1)\n",
    "Qc = mc*Cp*(Tc1 - Tc0)\n",
    "Q = (Qh + Qc)/2\n",
    "print(f\"Heat duty = {Q:.1f} watts\")\n",
    "\n",
    "# compute number of transfer units\n",
    "NTU = np.log((Th1 - Tc1)/(Th0 - Th1))\n",
    "\n",
    "# estimate heat transfer coefficient\n",
    "LMTD = ((Th1 - Tc1) - (Th0 - Tc0))/NTU\n",
    "U = Q / (LMTD * A)\n",
    "\n",
    "# display results\n",
    "print(f\"NTU = {-NTU:.2f}\")\n",
    "print(f\"LMTD = {LMTD:.2f} deg C\")\n",
    "print(f\"U (LMTD estimate) = {U:.1f} watt/deg C/m**2\")"
   ]
  },
  {
   "cell_type": "markdown",
   "metadata": {},
   "source": [
    "Fitting temperature profiles"
   ]
  },
  {
   "cell_type": "code",
   "execution_count": null,
   "metadata": {
    "colab": {
     "base_uri": "https://localhost:8080/",
     "height": 451
    },
    "executionInfo": {
     "elapsed": 2443,
     "status": "ok",
     "timestamp": 1643224660710,
     "user": {
      "displayName": "Jeffrey Kantor",
      "photoUrl": "https://lh3.googleusercontent.com/a-/AOh14Gg_n8V7bVINy02QRuRgOoMo11Ri7NKU3OUKdC1bkQ=s64",
      "userId": "09038942003589296665"
     },
     "user_tz": 300
    },
    "id": "fGc0xfbKl1WN",
    "outputId": "18365e85-e32d-4c8b-cd3f-7c5ed96d1a58"
   },
   "outputs": [
    {
     "name": "stdout",
     "output_type": "stream",
     "text": [
      "Heat duty = 52800.0 watts\n",
      "NTU = 1.70\n",
      "LMTD = 19.36 deg C\n",
      "U (LMTD estimate) = 545.5 watt/deg C/m**2\n",
      "Optimization terminated successfully.\n",
      "         Current function value: 8.273495\n",
      "         Iterations: 75\n",
      "         Function evaluations: 141\n",
      "U (model fit) = 554.4 watt/deg C/m**2\n"
     ]
    },
    {
     "data": {
      "image/png": "[encoded data removed]",
      "text/plain": [
       "<Figure size 432x288 with 1 Axes>"
      ]
     },
     "metadata": {
      "filenames": {
       "image/png": "/Users/jeff/Google Drive/GitHub/cbe31358-book/_build/jupyter_execute/notebooks/01/02_double-pipe-hx_8_1.png"
      },
      "needs_background": "light"
     },
     "output_type": "display_data"
    }
   ],
   "source": [
    "# initial estimate of fitted parameters\n",
    "p_estimate = [U, Th0, Tc0]\n",
    "\n",
    "# simulate double pipe heat exchange given parameter vector p\n",
    "def double_pipe_cocurrent(z_eval, parameters):\n",
    "    U, Th0, Tc0 = parameters\n",
    "    def deriv(z, y):\n",
    "        Th, Tc = y\n",
    "        return [-U*A*(Th - Tc)/(mh*Cp), U*A*(Th-Tc)/(mc*Cp)]\n",
    "    soln = solve_ivp(deriv, [0, 1], [Th0, Tc0], t_eval=z_eval, max_step=0.01)\n",
    "    Th = soln.y[0,:]\n",
    "    Tc = soln.y[1,:]\n",
    "    return Th, Tc\n",
    " \n",
    "# compute residuals between experiment and model\n",
    "def residuals(p):\n",
    "    Th_pred, Tc_pred = double_pipe_cocurrent(z_expt, p)\n",
    "    return sum((Th_expt - Th_pred)**2) + sum((Tc_expt - Tc_pred)**2)\n",
    "\n",
    "# minimize residuals\n",
    "p_min = fmin(residuals, p_estimate)\n",
    "U_min = p_min[0]\n",
    "print(f\"U (model fit) = {U_min:.1f} watt/deg C/m**2\")\n",
    "\n",
    "# compute temperature profile using the best least squares fit\n",
    "z_eval = np.linspace(0, 1, 201)\n",
    "Th_pred, Tc_pred = double_pipe_cocurrent(z_eval, p_min)\n",
    "\n",
    "# plot solution\n",
    "plt.plot(z_eval, Th_pred, 'r', label=\"T_h\")\n",
    "plt.plot(z_eval, Tc_pred, 'b', label=\"T_c\")\n",
    "plt.legend()\n",
    "plt.plot(z_expt, Th_expt, 'r.', ms=20)\n",
    "plt.plot(z_expt, Tc_expt, 'b.', ms=20)\n",
    "plt.xlabel(\"fractional distance z\")\n",
    "plt.ylabel(\"deg C\")\n",
    "plt.title(f\"Co-current Heat Exchanger: U = {U_min:.1f} watts/deg/m**2\")\n",
    "plt.grid(True)"
   ]
  },
  {
   "cell_type": "markdown",
   "metadata": {
    "id": "iI8nUCTvpdP5"
   },
   "source": [
    "### Rating, revisited\n",
    "\n",
    "Integrating\n",
    "\n",
    "$$dQ = UA (T_h - T_c) dz$$\n",
    "\n",
    "So that \n",
    "\n",
    "$$Q = UA \\int_0^1 (T_h(z) - T_c(z)) dz$$\n",
    "\n",
    "We have a solution for the difference $T_h(z) - T_c(z)$ that can be written\n",
    "\n",
    "$$T_h(z) - T_c(z) = (T_{h,0} - T_{c,0}) \\exp\\left(-UA\\left(\\frac{1}{\\dot{m}_hC_{p,h}} + \\frac{1}{\\dot{m}_cC_{p,c}}\\right)z\\right)$$\n",
    "\n",
    "Performing the integrations produces a rating equation\n",
    "\n",
    "\\begin{align*}\n",
    "Q & = UA(T_{h,0} - T_{c,0}) \\int_0^1 \\exp\\left(-UA\\left(\\frac{1}{\\dot{m}_hC_{p,h}} + \\frac{1}{\\dot{m}_cC_{p,c}}\\right)z\\right)dz \\\\\n",
    "& = -\\frac{T_{h,0} - T_{c,0}}{\\frac{1}{\\dot{m}_hC_{p,h}} + \\frac{1}{\\dot{m}_cC_{p,c}}}\\left[\\exp\\left(-UA\\left(\\frac{1}{\\dot{m}_hC_{p,h}} + \\frac{1}{\\dot{m}_cC_{p,c}}\\right)z\\right)\\right]\\biggr\\rvert_0^1 \\\\\n",
    "\\end{align*}\n",
    "\n",
    "which provides a solution\n",
    "\n",
    "\\begin{align*}\n",
    "\\implies Q & = \\frac{T_{h,0} - T_{c,0}}{\\frac{1}{\\dot{m}_hC_{p,h}} + \\frac{1}{\\dot{m}_cC_{p,c}}}\\left[1 - \\exp\\left(-UA\\left(\\frac{1}{\\dot{m}_hC_{p,h}} + \\frac{1}{\\dot{m}_cC_{p,c}}\\right)\\right)\\right]\n",
    "\\end{align*}\n",
    "\n",
    "This is an equation that predicts the heat transfer in terms of the known stream input temperatures and flowrates."
   ]
  },
  {
   "cell_type": "markdown",
   "metadata": {
    "id": "c0zXEhZJf8BX"
   },
   "source": [
    "## Counter-Current Operation\n",
    "\n",
    "### Rating Calculations\n",
    "\n",
    "Counter-current operation requires a different method of solution. For this case we will assume the cold water stream enters at $z=0$ while the hot stream enters at $z=1$. As before, heat is transferred from the hot stream to the cold stream\n",
    "\n",
    "$$dQ = UA (T_h - T_c) dz$$\n",
    "\n",
    "Because of the counter-current flow, $T_h$ and $T_c$ both increase in the direction of increasaing $z$\n",
    "\n",
    "\\begin{align*}\n",
    "\\dot{m}_h C_{p,h} dT_h & = dQ \\\\\n",
    "\\dot{m}_c C_{p,c} dT_c & = dQ\n",
    "\\end{align*}\n",
    "\n",
    "Substitution yields\n",
    "\n",
    "\\begin{align*}\n",
    "\\frac{dT_h}{dz} & = \\frac{UA}{\\dot{m}_hC_{p,h}}(T_h - T_c) & T_h(z=1) = T_{h,1} \\\\\n",
    "\\frac{dT_c}{dz} & = \\frac{UA}{\\dot{m}_cC_{p,c}}(T_h - T_c) & T_c(z=0) = T_{c,0}\n",
    "\\end{align*}\n",
    "\n",
    "where $T_c(0)$ and $T_h(1)$ are specified at opposite ends of the heat exchanger. For this reason, these equations for the counter-current heat exchanger comprise a two point boundary value problem.\n",
    "\n",
    "[``scipy.integrate.solve_bvp``](https://docs.scipy.org/doc/scipy/reference/generated/scipy.integrate.solve_bvp.html)"
   ]
  },
  {
   "cell_type": "code",
   "execution_count": null,
   "metadata": {
    "colab": {
     "base_uri": "https://localhost:8080/",
     "height": 279
    },
    "executionInfo": {
     "elapsed": 391,
     "status": "ok",
     "timestamp": 1643224825768,
     "user": {
      "displayName": "Jeffrey Kantor",
      "photoUrl": "https://lh3.googleusercontent.com/a-/AOh14Gg_n8V7bVINy02QRuRgOoMo11Ri7NKU3OUKdC1bkQ=s64",
      "userId": "09038942003589296665"
     },
     "user_tz": 300
    },
    "id": "-Qjh-CuTcWdX",
    "outputId": "5fbb0ecd-8641-4f61-df09-434da32e14f3"
   },
   "outputs": [
    {
     "data": {
      "image/png": "[encoded data removed]",
      "text/plain": [
       "<Figure size 432x288 with 1 Axes>"
      ]
     },
     "metadata": {
      "filenames": {
       "image/png": "/Users/jeff/Google Drive/GitHub/cbe31358-book/_build/jupyter_execute/notebooks/01/02_double-pipe-hx_11_0.png"
      },
      "needs_background": "light"
     },
     "output_type": "display_data"
    }
   ],
   "source": [
    "import matplotlib.pyplot as plt\n",
    "import numpy as np\n",
    "from scipy.integrate import solve_bvp\n",
    "\n",
    "# parameter values\n",
    "A = 5\n",
    "U = 700\n",
    "mh = 600\n",
    "mc = 1200\n",
    "Cp = 4.0\n",
    "\n",
    "# feed temperatures\n",
    "Th1 = 55.0\n",
    "Tc0 = 18.0\n",
    "\n",
    "# number of points\n",
    "n = 201\n",
    "\n",
    "# differential equation model\n",
    "def deriv(z, y):\n",
    "    Th, Tc = y\n",
    "    return [U*A*(Th - Tc)/(mh*Cp), U*A*(Th-Tc)/(mc*Cp)]\n",
    "\n",
    "def bc(y0, y1):\n",
    "    return [y1[0] - Th1,  # bc for Th at z=1\n",
    "            y0[1] - Tc0]  # bc for Tc at z=0\n",
    "\n",
    "# evaluate solution\n",
    "z_eval = np.linspace(0, 1, n)\n",
    "y_guess = (Th1 + Tc0)*np.ones((2, n))/2  # initial guess\n",
    "soln = solve_bvp(deriv, bc, z_eval, y_guess)\n",
    "\n",
    "\n",
    "# plot solution\n",
    "z = soln.x\n",
    "y = soln.y\n",
    "plt.plot(z, y[0,:], 'r', label=\"T_h\")\n",
    "plt.plot(z, y[1,:], 'b', label=\"T_c\")\n",
    "plt.legend()\n",
    "plt.plot(1, Th1, 'r.', ms=20)\n",
    "plt.plot(0, Tc0, 'b.', ms=20)\n",
    "plt.xlabel(\"Distance\")\n",
    "plt.ylabel(\"deg C\")\n",
    "plt.grid(True)"
   ]
  }
 ],
 "metadata": {
  "colab": {
   "collapsed_sections": [],
   "name": "Double-Pipe-Heat-Exchanger-Mon-V2.ipynb",
   "provenance": [
    {
     "file_id": "1NaDHmUO2fL4DKaSm5olh95-Xi9_Xt_K9",
     "timestamp": 1644260464572
    },
    {
     "file_id": "1AtKlDMjdgGYtCdxAgKh6eq4rpYx-a9W2",
     "timestamp": 1643289357502
    },
    {
     "file_id": "1LdNwwnfigDPh9zYo6z39u-YzJMCTcCZt",
     "timestamp": 1643224143760
    },
    {
     "file_id": "1p3KOLCqcQeT0-SYFN26YGz2zsbXyNUsw",
     "timestamp": 1643152561693
    },
    {
     "file_id": "1jw8ackmGdpweFmVA6CW3N8XGA_lws9Mw",
     "timestamp": 1643142799483
    }
   ]
  },
  "kernelspec": {
   "display_name": "Python 3 (ipykernel)",
   "language": "python",
   "name": "python3"
  },
  "language_info": {
   "codemirror_mode": {
    "name": "ipython",
    "version": 3
   },
   "file_extension": ".py",
   "mimetype": "text/x-python",
   "name": "python",
   "nbconvert_exporter": "python",
   "pygments_lexer": "ipython3",
   "version": "3.9.7"
  }
 },
 "nbformat": 4,
 "nbformat_minor": 4
}