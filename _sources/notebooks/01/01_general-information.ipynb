{
 "cells": [
  {
   "cell_type": "markdown",
   "metadata": {
    "id": "yFkzcmtll543"
   },
   "source": [
    "# Double Pipe Heat Exchanger\n"
   ]
  },
  {
   "cell_type": "markdown",
   "metadata": {
    "id": "p1Y57U1Vp1cP",
    "tags": []
   },
   "source": [
    "## Background\n",
    "\n",
    "### General Information\n",
    "\n",
    "https://www.thomasnet.com/articles/process-equipment/double-pipe-heat-exchangers/\n",
    "\n",
    "https://www.kochheattransfer.com/products/hairpins,-double-pipes-closures\n",
    "\n",
    "### Examples\n",
    "\n",
    "<p><a href=\"https://commons.wikimedia.org/wiki/File:Double-Pipe_Heat_Exchanger.png#/media/File:Double-Pipe_Heat_Exchanger.png\"><img src=\"https://upload.wikimedia.org/wikipedia/commons/2/2f/Double-Pipe_Heat_Exchanger.png\" alt=\"Double-Pipe Heat Exchanger.png\"></a><br>By &lt;a href=\"//commons.wikimedia.org/wiki/User:Turbojet\" title=\"User:Turbojet\"&gt;Turbojet&lt;/a&gt; - &lt;span class=\"int-own-work\" lang=\"en\"&gt;Own work&lt;/span&gt;, <a href=\"https://creativecommons.org/licenses/by-sa/4.0\" title=\"Creative Commons Attribution-Share Alike 4.0\">CC BY-SA 4.0</a>, <a href=\"https://commons.wikimedia.org/w/index.php?curid=9718368\">Link</a></p>\n",
    "\n",
    "<p><a href=\"https://commons.wikimedia.org/wiki/File:Arm_counter-current_flow.jpg#/media/File:Arm_counter-current_flow.jpg\"><img src=\"https://upload.wikimedia.org/wikipedia/commons/1/18/Arm_counter-current_flow.jpg\" alt=\"Arm counter-current flow.jpg\"></a><br>By &lt;a href=\"//commons.wikimedia.org/wiki/User:Cruithne9\" title=\"User:Cruithne9\"&gt;Cruithne9&lt;/a&gt; - &lt;span class=\"int-own-work\" lang=\"en\"&gt;Own work&lt;/span&gt;, <a href=\"https://creativecommons.org/licenses/by-sa/4.0\" title=\"Creative Commons Attribution-Share Alike 4.0\">CC BY-SA 4.0</a>, <a href=\"https://commons.wikimedia.org/w/index.php?curid=57511814\">Link</a></p>\n",
    "\n",
    "\n",
    "[Wading birds](https://www2.nau.edu/~gaud/bio300b/cntch.htm)\n"
   ]
  },
  {
   "cell_type": "code",
   "execution_count": null,
   "metadata": {
    "id": "086PTbvSNh84"
   },
   "outputs": [],
   "source": []
  }
 ],
 "metadata": {
  "colab": {
   "collapsed_sections": [],
   "name": "Double-Pipe-Heat-Exchanger-Mon-V2.ipynb",
   "provenance": [
    {
     "file_id": "1NaDHmUO2fL4DKaSm5olh95-Xi9_Xt_K9",
     "timestamp": 1644260464572
    },
    {
     "file_id": "1AtKlDMjdgGYtCdxAgKh6eq4rpYx-a9W2",
     "timestamp": 1643289357502
    },
    {
     "file_id": "1LdNwwnfigDPh9zYo6z39u-YzJMCTcCZt",
     "timestamp": 1643224143760
    },
    {
     "file_id": "1p3KOLCqcQeT0-SYFN26YGz2zsbXyNUsw",
     "timestamp": 1643152561693
    },
    {
     "file_id": "1jw8ackmGdpweFmVA6CW3N8XGA_lws9Mw",
     "timestamp": 1643142799483
    }
   ]
  },
  "kernelspec": {
   "display_name": "Python 3 (ipykernel)",
   "language": "python",
   "name": "python3"
  },
  "language_info": {
   "codemirror_mode": {
    "name": "ipython",
    "version": 3
   },
   "file_extension": ".py",
   "mimetype": "text/x-python",
   "name": "python",
   "nbconvert_exporter": "python",
   "pygments_lexer": "ipython3",
   "version": "3.9.7"
  }
 },
 "nbformat": 4,
 "nbformat_minor": 4
}
