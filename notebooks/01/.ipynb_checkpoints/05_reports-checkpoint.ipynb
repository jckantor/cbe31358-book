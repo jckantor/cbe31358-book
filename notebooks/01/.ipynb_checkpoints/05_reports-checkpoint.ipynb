{
 "cells": [
  {
   "cell_type": "markdown",
   "metadata": {
    "id": "yFkzcmtll543"
   },
   "source": [
    "# Experiments and Reports"
   ]
  },
  {
   "cell_type": "markdown",
   "metadata": {},
   "source": [
    "## Experiments\n",
    "\n",
    "For this project you will need to gather data on two different heat exchangers mounted on the GUNT WL 315C equ"
   ]
  },
  {
   "cell_type": "markdown",
   "metadata": {},
   "source": [
    "## Progress Report"
   ]
  },
  {
   "cell_type": "markdown",
   "metadata": {
    "id": "vOdKtwbUMNta"
   },
   "source": [
    "## Outline for a final report\n",
    "\n",
    "* Perform co-current and counter-current temperature measurements for the double pipe each exchanger.\n",
    "\n",
    "* Compute $U$ for each experiment using LMTD formula.\n",
    "\n",
    "* Attempt to analyze the data by plotting $1/U$ as outlined above. If this fails, consult Dr. Kantor for a second approach.\n",
    "\n",
    "* Use the rating caculations to compare model to measured temperature profiles. \n",
    "\n",
    "* Answer this question:  Would the correlation developed for $1/U$ provide an accurate way of predicting the performance of the double pipe heat exchanger?"
   ]
  }
 ],
 "metadata": {
  "colab": {
   "collapsed_sections": [],
   "name": "Double-Pipe-Heat-Exchanger-Mon-V2.ipynb",
   "provenance": [
    {
     "file_id": "1NaDHmUO2fL4DKaSm5olh95-Xi9_Xt_K9",
     "timestamp": 1644260464572
    },
    {
     "file_id": "1AtKlDMjdgGYtCdxAgKh6eq4rpYx-a9W2",
     "timestamp": 1643289357502
    },
    {
     "file_id": "1LdNwwnfigDPh9zYo6z39u-YzJMCTcCZt",
     "timestamp": 1643224143760
    },
    {
     "file_id": "1p3KOLCqcQeT0-SYFN26YGz2zsbXyNUsw",
     "timestamp": 1643152561693
    },
    {
     "file_id": "1jw8ackmGdpweFmVA6CW3N8XGA_lws9Mw",
     "timestamp": 1643142799483
    }
   ]
  },
  "kernelspec": {
   "display_name": "Python 3 (ipykernel)",
   "language": "python",
   "name": "python3"
  },
  "language_info": {
   "codemirror_mode": {
    "name": "ipython",
    "version": 3
   },
   "file_extension": ".py",
   "mimetype": "text/x-python",
   "name": "python",
   "nbconvert_exporter": "python",
   "pygments_lexer": "ipython3",
   "version": "3.9.7"
  }
 },
 "nbformat": 4,
 "nbformat_minor": 4
}
